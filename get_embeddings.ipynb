{
 "cells": [
  {
   "cell_type": "code",
   "execution_count": 2,
   "metadata": {},
   "outputs": [],
   "source": [
    "# init\n",
    "import os\n",
    "import openai\n",
    "\n",
    "openai.api_key = os.getenv(\"OPENAI_API_KEY\")\n",
    "\n"
   ]
  },
  {
   "cell_type": "code",
   "execution_count": 3,
   "metadata": {},
   "outputs": [],
   "source": [
    "# embedding model parameters\n",
    "embedding_model = \"text-embedding-ada-002\"\n",
    "embedding_encoding = \"cl100k_base\"  # this the encoding for text-embedding-ada-002\n",
    "max_tokens = 8000  # the maximum for text-embedding-ada-002 is 8191"
   ]
  },
  {
   "cell_type": "code",
   "execution_count": 7,
   "metadata": {},
   "outputs": [
    {
     "name": "stdout",
     "output_type": "stream",
     "text": [
      "6726\n"
     ]
    }
   ],
   "source": [
    "import pandas as pd\n",
    "\n",
    "input_path = \"./datasets/90minFootballTransferNewsNLP.csv\"\n",
    "df = pd.read_csv(input_path)\n",
    "df = df[[\"Title\",\"Date\", \"Link\", \"Content\"]]\n",
    "df = df.dropna()\n",
    "df[\"Combined\"] = (\n",
    "    \"Title: \" + df.Title.str.strip() + \"; Content: \" + df.Content.str.strip()\n",
    ")\n",
    "df.head(2)\n",
    "\n",
    "print(df.shape[0])"
   ]
  },
  {
   "cell_type": "code",
   "execution_count": 8,
   "metadata": {},
   "outputs": [
    {
     "data": {
      "text/plain": [
       "100"
      ]
     },
     "execution_count": 8,
     "metadata": {},
     "output_type": "execute_result"
    }
   ],
   "source": [
    "import tiktoken\n",
    "\n",
    "top_n = 100\n",
    "# subsample 100\n",
    "df = df.iloc[:top_n]\n",
    "\n",
    "\n",
    "encoding = tiktoken.get_encoding(embedding_encoding)\n",
    "\n",
    "# omit reviews that are too long to embed\n",
    "df[\"n_tokens\"] = df.Combined.apply(lambda x: len(encoding.encode(x)))\n",
    "df = df[df.n_tokens <= max_tokens].tail(top_n)\n",
    "len(df)"
   ]
  },
  {
   "cell_type": "code",
   "execution_count": 6,
   "metadata": {},
   "outputs": [],
   "source": [
    "from openai.embeddings_utils import get_embedding\n",
    "\n",
    "# This may take a few minutes\n",
    "df[\"embedding\"] = df.Combined.apply(lambda x: get_embedding(x, engine=embedding_model))\n",
    "df.to_csv(\"./results/footballTransferNewsEmbeddings.csv\")"
   ]
  },
  {
   "cell_type": "code",
   "execution_count": 7,
   "metadata": {},
   "outputs": [
    {
     "data": {
      "text/html": [
       "<div>\n",
       "<style scoped>\n",
       "    .dataframe tbody tr th:only-of-type {\n",
       "        vertical-align: middle;\n",
       "    }\n",
       "\n",
       "    .dataframe tbody tr th {\n",
       "        vertical-align: top;\n",
       "    }\n",
       "\n",
       "    .dataframe thead th {\n",
       "        text-align: right;\n",
       "    }\n",
       "</style>\n",
       "<table border=\"1\" class=\"dataframe\">\n",
       "  <thead>\n",
       "    <tr style=\"text-align: right;\">\n",
       "      <th></th>\n",
       "      <th>Title</th>\n",
       "      <th>Date</th>\n",
       "      <th>Link</th>\n",
       "      <th>Content</th>\n",
       "      <th>Combined</th>\n",
       "      <th>n_tokens</th>\n",
       "      <th>embedding</th>\n",
       "    </tr>\n",
       "  </thead>\n",
       "  <tbody>\n",
       "    <tr>\n",
       "      <th>0</th>\n",
       "      <td>Football transfer rumours: Why Maguire's Man U...</td>\n",
       "      <td>Aug 15, 2023</td>\n",
       "      <td>https://www.90min.com/posts/football-transfer-...</td>\n",
       "      <td>90minÂ rounds up the latestÂ transfer news, ru...</td>\n",
       "      <td>Title: Football transfer rumours: Why Maguire'...</td>\n",
       "      <td>458</td>\n",
       "      <td>[-0.004948447924107313, -0.007800770457834005,...</td>\n",
       "    </tr>\n",
       "    <tr>\n",
       "      <th>1</th>\n",
       "      <td>Chelsea agree Romeo Lavia fee with Southampton</td>\n",
       "      <td>Aug 15, 2023</td>\n",
       "      <td>https://www.90min.com/posts/chelsea-agree-rome...</td>\n",
       "      <td>Chelsea have finalised an agreement with South...</td>\n",
       "      <td>Title: Chelsea agree Romeo Lavia fee with Sout...</td>\n",
       "      <td>327</td>\n",
       "      <td>[0.019322646781802177, 0.009196124039590359, 0...</td>\n",
       "    </tr>\n",
       "    <tr>\n",
       "      <th>2</th>\n",
       "      <td>Harry Maguire's proposed West Ham transfer col...</td>\n",
       "      <td>Aug 15, 2023</td>\n",
       "      <td>https://www.90min.com/posts/harry-maguire-prop...</td>\n",
       "      <td>Harry Maguire's proposed transfer to West Ham ...</td>\n",
       "      <td>Title: Harry Maguire's proposed West Ham trans...</td>\n",
       "      <td>372</td>\n",
       "      <td>[-0.013167046010494232, -0.023806432262063026,...</td>\n",
       "    </tr>\n",
       "    <tr>\n",
       "      <th>3</th>\n",
       "      <td>Southampton director breaks down Chelsea &amp; Liv...</td>\n",
       "      <td>Aug 15, 2023</td>\n",
       "      <td>https://www.90min.com/posts/southampton-direct...</td>\n",
       "      <td>Southampton director Jason Wilcox has revealed...</td>\n",
       "      <td>Title: Southampton director breaks down Chelse...</td>\n",
       "      <td>419</td>\n",
       "      <td>[0.013198532164096832, 0.01562053058296442, 0....</td>\n",
       "    </tr>\n",
       "    <tr>\n",
       "      <th>4</th>\n",
       "      <td>Neymar completes move from PSG to Al Hilal</td>\n",
       "      <td>Aug 15, 2023</td>\n",
       "      <td>https://www.90min.com/posts/neymar-completes-m...</td>\n",
       "      <td>Saudi Pro League side Al Hilal have confirmed ...</td>\n",
       "      <td>Title: Neymar completes move from PSG to Al Hi...</td>\n",
       "      <td>393</td>\n",
       "      <td>[-0.006522698327898979, 0.015212981030344963, ...</td>\n",
       "    </tr>\n",
       "  </tbody>\n",
       "</table>\n",
       "</div>"
      ],
      "text/plain": [
       "                                               Title          Date  \\\n",
       "0  Football transfer rumours: Why Maguire's Man U...  Aug 15, 2023   \n",
       "1     Chelsea agree Romeo Lavia fee with Southampton  Aug 15, 2023   \n",
       "2  Harry Maguire's proposed West Ham transfer col...  Aug 15, 2023   \n",
       "3  Southampton director breaks down Chelsea & Liv...  Aug 15, 2023   \n",
       "4         Neymar completes move from PSG to Al Hilal  Aug 15, 2023   \n",
       "\n",
       "                                                Link  \\\n",
       "0  https://www.90min.com/posts/football-transfer-...   \n",
       "1  https://www.90min.com/posts/chelsea-agree-rome...   \n",
       "2  https://www.90min.com/posts/harry-maguire-prop...   \n",
       "3  https://www.90min.com/posts/southampton-direct...   \n",
       "4  https://www.90min.com/posts/neymar-completes-m...   \n",
       "\n",
       "                                             Content  \\\n",
       "0  90minÂ rounds up the latestÂ transfer news, ru...   \n",
       "1  Chelsea have finalised an agreement with South...   \n",
       "2  Harry Maguire's proposed transfer to West Ham ...   \n",
       "3  Southampton director Jason Wilcox has revealed...   \n",
       "4  Saudi Pro League side Al Hilal have confirmed ...   \n",
       "\n",
       "                                            Combined  n_tokens  \\\n",
       "0  Title: Football transfer rumours: Why Maguire'...       458   \n",
       "1  Title: Chelsea agree Romeo Lavia fee with Sout...       327   \n",
       "2  Title: Harry Maguire's proposed West Ham trans...       372   \n",
       "3  Title: Southampton director breaks down Chelse...       419   \n",
       "4  Title: Neymar completes move from PSG to Al Hi...       393   \n",
       "\n",
       "                                           embedding  \n",
       "0  [-0.004948447924107313, -0.007800770457834005,...  \n",
       "1  [0.019322646781802177, 0.009196124039590359, 0...  \n",
       "2  [-0.013167046010494232, -0.023806432262063026,...  \n",
       "3  [0.013198532164096832, 0.01562053058296442, 0....  \n",
       "4  [-0.006522698327898979, 0.015212981030344963, ...  "
      ]
     },
     "execution_count": 7,
     "metadata": {},
     "output_type": "execute_result"
    }
   ],
   "source": [
    "df.head(5)"
   ]
  }
 ],
 "metadata": {
  "kernelspec": {
   "display_name": "base",
   "language": "python",
   "name": "python3"
  },
  "language_info": {
   "codemirror_mode": {
    "name": "ipython",
    "version": 3
   },
   "file_extension": ".py",
   "mimetype": "text/x-python",
   "name": "python",
   "nbconvert_exporter": "python",
   "pygments_lexer": "ipython3",
   "version": "3.8.15"
  },
  "orig_nbformat": 4
 },
 "nbformat": 4,
 "nbformat_minor": 2
}
